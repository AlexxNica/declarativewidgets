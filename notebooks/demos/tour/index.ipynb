{
 "cells": [
  {
   "cell_type": "code",
   "execution_count": null,
   "metadata": {
    "collapsed": false
   },
   "outputs": [],
   "source": [
    "%%html\n",
    "<link rel=\"stylesheet\" href=\"main.css\">\n",
    "<link rel=\"import\" href=\"urth_components/paper-dropdown-menu/paper-dropdown-menu.html\" is='urth-core-import' package='PolymerElements/paper-dropdown-menu'>\n",
    "<link rel=\"import\" href=\"urth_components/paper-menu/paper-menu.html\" is='urth-core-import' package='PolymerElements/paper-menu'>\n",
    "<link rel=\"import\" href=\"urth_components/paper-item/paper-item.html\" is='urth-core-import' package='PolymerElements/paper-item'>\n",
    "<link rel=\"import\" href=\"urth_components/paper-button/paper-button.html\" is='urth-core-import' package='PolymerElements/paper-button'>\n",
    "<link rel=\"import\" href=\"urth_components/paper-card/paper-card.html\" is='urth-core-import' package='PolymerElements/paper-card'>\n",
    "<link rel=\"import\" href=\"urth_components/paper-slider/paper-slider.html\" is='urth-core-import' package='PolymerElements/paper-slider'>\n",
    "<link rel=\"import\" href=\"urth_components/google-map/google-map.html\" is='urth-core-import' package='GoogleWebComponents/google-map'>\n",
    "<link rel=\"import\" href=\"urth_components/google-map/google-map-marker.html\" is='urth-core-import' package='GoogleWebComponents/google-map'>\n",
    "<link rel=\"import\" href=\"urth_components/urth-viz-table/urth-viz-table.html\">\n",
    "<link rel=\"import\" href=\"urth_components/urth-viz-chart/urth-viz-chart.html\">\n",
    "\n",
    "<style is=\"custom-style\">\n",
    "    paper-slider.blue {\n",
    "      --paper-slider-knob-color: var(--paper-light-blue-500);\n",
    "      --paper-slider-active-color: var(--paper-light-blue-500);\n",
    "    }\n",
    "    paper-slider.red {\n",
    "      --paper-slider-knob-color: var(--paper-red-500);\n",
    "      --paper-slider-active-color: var(--paper-red-500);\n",
    "    }\n",
    "    paper-slider.orange {\n",
    "      --paper-slider-knob-color: var(--paper-orange-500);\n",
    "      --paper-slider-active-color: var(--paper-orange-500);\n",
    "      --paper-slider-pin-color: var(--paper-orange-500);\n",
    "    }\n",
    "    \n",
    "    urth-viz-chart::shadow .nv-x .tick text {\n",
    "        display: none;\n",
    "    }\n",
    "</style>"
   ]
  },
  {
   "cell_type": "code",
   "execution_count": null,
   "metadata": {
    "collapsed": true
   },
   "outputs": [],
   "source": [
    "import pandas as pd"
   ]
  },
  {
   "cell_type": "code",
   "execution_count": null,
   "metadata": {
    "collapsed": true
   },
   "outputs": [],
   "source": [
    "def loadData(name:str):\n",
    "    return pd.read_csv('./' + name + '.csv')"
   ]
  },
  {
   "cell_type": "code",
   "execution_count": null,
   "metadata": {
    "collapsed": false
   },
   "outputs": [],
   "source": [
    "%%html\n",
    "<template id=\"loadCard\" is=\"urth-core-bind\" channel=\"trips\">\n",
    "    <urth-core-function id=\"loadDataFunc\" \n",
    "        ref=\"loadData\" \n",
    "        arg-name=\"{{datafile}}\" \n",
    "        result=\"{{thedata}}\" \n",
    "        limit=\"50\"\n",
    "        is-ready=\"{{isloadready}}\"></urth-core-function>\n",
    "    <paper-card heading=\"Load Data\" elevation=\"1\">\n",
    "        <div class=\"card-content\">\n",
    "            <paper-dropdown-menu label=\"Select Trips\" selected-item-label=\"{{datafile}}\" noink>\n",
    "                <paper-menu class=\"dropdown-content\" selected=\"[[datafile]]\" attr-for-selected=\"label\">\n",
    "                    <template is=\"dom-repeat\" items=\"[[tripOptions]]\">\n",
    "                        <paper-item label=\"[[item]]\">[[item]]</paper-item>\n",
    "                    </template>\n",
    "                </paper-menu>\n",
    "            </paper-dropdown-menu>\n",
    "        </div>\n",
    "        <div class=\"card-actions\">\n",
    "            <paper-button tabindex=\"0\" disabled=\"{{!isloadready}}\" onClick=\"loadDataFunc.invoke()\">Load</paper-button>\n",
    "        </div>\n",
    "    </paper-card>\n",
    "    <script>\n",
    "        loadCard.tripOptions = [\"trips_1\", \"trips_2\", \"trips_3\", \"trips_4\", \"trips_5\"]\n",
    "    </script>\n",
    "</template>"
   ]
  },
  {
   "cell_type": "code",
   "execution_count": null,
   "metadata": {
    "collapsed": true
   },
   "outputs": [],
   "source": [
    "def center(lat1:float, long1: float, lat2: float, long2: float):\n",
    "    return [(lat1+lat2)/2, (long1+long2)/2]"
   ]
  },
  {
   "cell_type": "code",
   "execution_count": null,
   "metadata": {
    "collapsed": false
   },
   "outputs": [],
   "source": [
    "%%html\n",
    "<template is=\"urth-core-bind\" channel=\"trips\">\n",
    "    <urth-core-function\n",
    "        ref=\"center\" \n",
    "        arg-lat1=\"[[sel.11]]\" \n",
    "        arg-long1=\"[[sel.10]]\" \n",
    "        arg-lat2=\"[[sel.13]]\" \n",
    "        arg-long2=\"[[sel.12]]\" \n",
    "        result=\"{{thecenter}}\" auto></urth-core-function>\n",
    "    <template is=\"dom-if\" if=\"{{thedata}}\">\n",
    "        <paper-card style=\"width: 100%;\" heading=\"Trips Data\" elevation=\"1\">\n",
    "            <div class=\"card-content\">\n",
    "                <urth-viz-table datarows='{{thedata.data}}' columns='{{thedata.columns}}' selection='{{sel}}' rows-visible=\"10\"></urth-viz-table>\n",
    "            </div>\n",
    "            <div class=\"card-content\">\n",
    "                <template is=\"dom-if\" if=\"{{sel}}\">\n",
    "                    <google-map id=\"blah\" latitude=\"[[thecenter.0]]\" longitude=\"[[thecenter.1]]\" zoom=\"12\">\n",
    "                        <google-map-marker latitude=\"{{sel.11}}\" longitude=\"{{sel.10}}\" title=\"Pickup\"></google-map-marker>\n",
    "                        <google-map-marker latitude=\"{{sel.13}}\" longitude=\"{{sel.12}}\" title=\"Dropoff\"></google-map-marker>\n",
    "                    </google-map>\n",
    "                </template>\n",
    "        </paper-card>\n",
    "    </template>\n",
    "</template>"
   ]
  },
  {
   "cell_type": "code",
   "execution_count": null,
   "metadata": {
    "collapsed": false
   },
   "outputs": [],
   "source": [
    "allfares = fares = pd.read_csv('./fares.csv')"
   ]
  },
  {
   "cell_type": "code",
   "execution_count": null,
   "metadata": {
    "collapsed": false,
    "scrolled": false
   },
   "outputs": [],
   "source": [
    "%%html\n",
    "<template is=\"urth-core-bind\" channel=\"faresChan\">\n",
    "    <urth-core-dataframe ref=\"fares\" value=\"{{thedata}}\" limit=\"100\" auto></urth-core-dataframe>\n",
    "    <paper-card style=\"width: 100%;\" heading=\"Fares Data\" elevation=\"1\">\n",
    "        <div class=\"card-content\">\n",
    "            <urth-viz-table datarows='{{thedata.data}}' columns='{{thedata.columns}}' rows-visible='10'></urth-viz-table>\n",
    "        </div>\n",
    "    </paper-card>\n",
    "</template>"
   ]
  },
  {
   "cell_type": "code",
   "execution_count": null,
   "metadata": {
    "collapsed": false
   },
   "outputs": [],
   "source": [
    "fares = allfares[fares[' payment_type']=='CRD']"
   ]
  },
  {
   "cell_type": "code",
   "execution_count": null,
   "metadata": {
    "collapsed": false
   },
   "outputs": [],
   "source": [
    "def filterTopEarners(filter = \"All\"):\n",
    "    if (filter == \"Credit\"):\n",
    "        _fares = allfares[allfares[' payment_type']=='CRD']\n",
    "    elif (filter == \"Cash\"):\n",
    "        _fares = allfares[allfares[' payment_type']=='CSH']\n",
    "    else:\n",
    "        _fares = allfares\n",
    "\n",
    "    _topEarners = pd.DataFrame(_fares.groupby('medallion').sum().sort(' total_amount', inplace=False, ascending=False)[' total_amount']) \n",
    "    _topEarners['medallion'] = _topEarners.index\n",
    "    \n",
    "    return _topEarners[['medallion', ' total_amount']]"
   ]
  },
  {
   "cell_type": "code",
   "execution_count": null,
   "metadata": {
    "collapsed": false,
    "scrolled": false
   },
   "outputs": [],
   "source": [
    "%%html\n",
    "<template id=\"topEarners\" is=\"urth-core-bind\" channel=\"faresChan\">\n",
    "    <urth-core-function id='why' ref=\"filterTopEarners\" arg-filter=\"{{payType}}\" result=\"{{top}}\" limit=\"{{limit}}\" auto></urth-core-function>\n",
    "    <paper-card style=\"width: 100%;\" heading=\"Top Earners\" elevation=\"1\">\n",
    "        <div class=\"card-content\">\n",
    "            <paper-dropdown-menu label=\"Select Payment Type\" noink>\n",
    "                <paper-menu class=\"dropdown-content\" selected=\"{{payType}}\" attr-for-selected=\"label\">\n",
    "                    <template is=\"dom-repeat\" items=\"[[paymentOptions]]\">\n",
    "                        <paper-item label=\"[[item]]\">[[item]]</paper-item>\n",
    "                    </template>\n",
    "                </paper-menu>\n",
    "            </paper-dropdown-menu>\n",
    "\n",
    "            <urth-viz-chart type='bar' datarows='{{top.data}}' columns='{{top.columns}}' selection=\"{{sel}}\"></urth-viz-chart>\n",
    "            <div class=\"center horizontal layout\">\n",
    "                <div>Limit</div>\n",
    "                <paper-slider min=\"5\" max=\"50\" step=\"5\" pin snap value=\"{{limit}}\"></paper-slider>\n",
    "            </div>\n",
    "        </paper-card>\n",
    "    </div>\n",
    "    <script>\n",
    "        topEarners.paymentOptions = [\"All\", \"Cash\", \"Credit\"]\n",
    "    </script>\n",
    "</template>"
   ]
  },
  {
   "cell_type": "code",
   "execution_count": null,
   "metadata": {
    "collapsed": true
   },
   "outputs": [],
   "source": [
    "def driverStats(medallions = []):\n",
    "    colnames = ['medallion', 'trips', 'total_amount_avg', 'total_amount_min', 'total_amount_max']\n",
    "    data = []\n",
    "\n",
    "    for m in list(map((lambda med: med['x']), medallions)):\n",
    "        stats = allfares[allfares['medallion']==m].groupby('medallion').describe()[' total_amount'].iloc[[0, 1, 3, 7]].values\n",
    "        row = [m] + list(stats)\n",
    "        data.append(row)\n",
    "\n",
    "    return pd.DataFrame(data, columns=colnames)\n",
    "\n",
    "def minMaxStats():\n",
    "    data = []\n",
    "    group = allfares[['medallion', ' total_amount']].groupby('medallion')\n",
    "\n",
    "    the_mean = group.mean()\n",
    "    the_max = group.max()\n",
    "    the_min = group.min()\n",
    "\n",
    "    return [the_mean.min()[0], the_mean.max()[0], the_max.min()[0], the_max.max()[0], the_min.min()[0], the_min.max()[0]]"
   ]
  },
  {
   "cell_type": "code",
   "execution_count": null,
   "metadata": {
    "collapsed": false
   },
   "outputs": [],
   "source": [
    "%%html\n",
    "<template id=\"fareStatsTemplate\" is=\"urth-core-bind\" channel=\"faresChan\">\n",
    "    <urth-core-function ref=\"driverStats\" arg-medallions=\"{{sel}}\" result=\"{{stats}}\" auto></urth-core-function>\n",
    "    <urth-core-function id=\"minMaxStats\" ref=\"minMaxStats\" result=\"{{minMax}}\" on-is-ready-changed =\"init\"></urth-core-function>\n",
    "    <script>\n",
    "        fareStatsTemplate.init = function(){\n",
    "            minMaxStats.invoke()\n",
    "        }\n",
    "    </script>\n",
    "    <template is=\"dom-repeat\" items='{{stats.data}}' as='stat'>\n",
    "        <paper-card class='driverStats' elevation=\"1\">\n",
    "            <div class=\"card-content\">\n",
    "                <div class=\"vertical-section\">\n",
    "                    <h4>Driver: <span>{{stat.0}}</span></h4><br/>\n",
    "                    <div class=\"center horizontal layout\">\n",
    "                        <div class=\"stat-label\">Avg</div>\n",
    "                        <paper-slider pin value=\"{{stat.2}}\" min='{{minMax.0}}' max='{{minMax.1}}'></paper-slider>\n",
    "                        <div class=\"stat-value\">$<span>{{stat.2}}</span></div>\n",
    "                    </div>\n",
    "                    \n",
    "                    <div class=\"center horizontal layout\">\n",
    "                        <div class=\"stat-label\">Min</div>\n",
    "                        <paper-slider pin value=\"{{stat.3}}\" min='{{minMax.4}}' max='{{minMax.5}}' class=\"orange\"></paper-slider>\n",
    "                        <div class=\"stat-value\">$<span>{{stat.3}}</span></div>\n",
    "                    </div>\n",
    "                    \n",
    "                    <div class=\"center horizontal layout\">\n",
    "                        <div class=\"stat-label\">Max</div>\n",
    "                        <paper-slider pin value=\"{{stat.4}}\" min='{{minMax.2}}' max='{{minMax.3}}' class=\"red\"></paper-slider>\n",
    "                        <div class=\"stat-value\">$<span>{{stat.4}}</span></div>\n",
    "                    </div>\n",
    "                </div>\n",
    "            </div>\n",
    "        </paper-card>\n",
    "    </template>\n",
    "</template>"
   ]
  }
 ],
 "metadata": {
  "kernelspec": {
   "display_name": "Python 3",
   "language": "python",
   "name": "python3"
  },
  "language_info": {
   "codemirror_mode": {
    "name": "ipython",
    "version": 3
   },
   "file_extension": ".py",
   "mimetype": "text/x-python",
   "name": "python",
   "nbconvert_exporter": "python",
   "pygments_lexer": "ipython3",
   "version": "3.4.3"
  }
 },
 "nbformat": 4,
 "nbformat_minor": 0
}
