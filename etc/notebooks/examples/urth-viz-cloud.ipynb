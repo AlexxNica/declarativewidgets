{
 "cells": [
  {
   "cell_type": "code",
   "execution_count": 1,
   "metadata": {
    "collapsed": false
   },
   "outputs": [
    {
     "data": {
      "text/html": [
       "<link rel=\"import\" href=\"urth_components/urth-viz-cloud/urth-viz-cloud.html\" is=\"urth-core-import\">"
      ],
      "text/plain": [
       "<IPython.core.display.HTML object>"
      ]
     },
     "metadata": {},
     "output_type": "display_data"
    }
   ],
   "source": [
    "%%html\n",
    "<link rel=\"import\" href=\"urth_components/urth-viz-cloud/urth-viz-cloud.html\" is=\"urth-core-import\">\n"
   ]
  },
  {
   "cell_type": "code",
   "execution_count": 2,
   "metadata": {
    "collapsed": false
   },
   "outputs": [
    {
     "data": {
      "text/html": [
       "<urth-viz-cloud data='{\"smallest\":0.01, \"smaller\": 0.1, \"small\":  0.2, \"big\":0.5, \"bigger\":0.8, \"biggest\":1}'></urth-viz-cloud>"
      ],
      "text/plain": [
       "<IPython.core.display.HTML object>"
      ]
     },
     "metadata": {},
     "output_type": "display_data"
    }
   ],
   "source": [
    "%%html\n",
    "<urth-viz-cloud data='{\"smallest\":0.01, \"smaller\": 0.1, \"small\":  0.2, \"big\":0.5, \"bigger\":0.8, \"biggest\":1}'></urth-viz-cloud>"
   ]
  },
  {
   "cell_type": "code",
   "execution_count": null,
   "metadata": {
    "collapsed": true
   },
   "outputs": [],
   "source": []
  }
 ],
 "metadata": {
  "kernelspec": {
   "display_name": "Python 3",
   "language": "python",
   "name": "python3"
  },
  "language_info": {
   "codemirror_mode": {
    "name": "ipython",
    "version": 3
   },
   "file_extension": ".py",
   "mimetype": "text/x-python",
   "name": "python",
   "nbconvert_exporter": "python",
   "pygments_lexer": "ipython3",
   "version": "3.4.3"
  }
 },
 "nbformat": 4,
 "nbformat_minor": 0
}
