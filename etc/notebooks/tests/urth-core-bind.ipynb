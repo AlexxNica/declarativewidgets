{
 "cells": [
  {
   "cell_type": "markdown",
   "metadata": {},
   "source": [
    "### This test is used to verify that the `urth-core-bind` template waits for the dependency to load.\n",
    "\n",
    "This is a known scenario that fails if `urth-core-bind` does not wait for dependencies to load with shadow dom enabled (Chrome). Entering text into the `paper-input` should be duplicated in the `span`. If `urth-core-bind` does not wait for dependencies the `span` won't be updated."
   ]
  },
  {
   "cell_type": "code",
   "execution_count": null,
   "metadata": {
    "collapsed": false
   },
   "outputs": [],
   "source": [
    "%%HTML\n",
    "<link rel='import' href='urth_components/paper-input/paper-input.html' \n",
    "        is='urth-core-import' package='PolymerElements/paper-input'>\n",
    "<template id='bindtemplate' is='urth-core-bind'>    \n",
    "    <span id='titleSpan'>[[title]]</span>\n",
    "    <paper-input id='titleInput' label='Title' value='{{title}}'></paper-input>\n",
    "</template>"
   ]
  }
 ],
 "metadata": {
  "kernelspec": {
   "display_name": "Python 3",
   "language": "python",
   "name": "python3"
  },
  "language_info": {
   "codemirror_mode": {
    "name": "ipython",
    "version": 3
   },
   "file_extension": ".py",
   "mimetype": "text/x-python",
   "name": "python",
   "nbconvert_exporter": "python",
   "pygments_lexer": "ipython3",
   "version": "3.4.4"
  }
 },
 "nbformat": 4,
 "nbformat_minor": 0
}
