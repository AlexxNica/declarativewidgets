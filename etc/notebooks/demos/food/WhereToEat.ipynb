{
 "cells": [
  {
   "cell_type": "markdown",
   "metadata": {
    "urth": {
     "dashboard": {
      "hidden": true,
      "layout": {}
     }
    }
   },
   "source": [
    "# Should I eat There?"
   ]
  },
  {
   "cell_type": "markdown",
   "metadata": {
    "urth": {
     "dashboard": {
      "hidden": true,
      "layout": {}
     }
    }
   },
   "source": [
    "## Data Layer"
   ]
  },
  {
   "cell_type": "markdown",
   "metadata": {
    "urth": {
     "dashboard": {
      "hidden": true,
      "layout": {}
     }
    }
   },
   "source": [
    "#### Loading Data\n",
    "\n",
    "Using Food Inspection Data from the [City of Austin Open Data Portal](https://data.austintexas.gov/dataset/Restaurant-Inspection-Scores/ecmv-9xxi)"
   ]
  },
  {
   "cell_type": "code",
   "execution_count": null,
   "metadata": {
    "collapsed": true,
    "urth": {
     "dashboard": {
      "hidden": true,
      "layout": {}
     }
    }
   },
   "outputs": [],
   "source": [
    "import pandas as pd\n",
    "pd.options.mode.chained_assignment = None"
   ]
  },
  {
   "cell_type": "code",
   "execution_count": null,
   "metadata": {
    "collapsed": false,
    "urth": {
     "dashboard": {
      "hidden": true,
      "layout": {}
     }
    }
   },
   "outputs": [],
   "source": [
    "import os.path\n",
    "\n",
    "restaurants = pd.read_csv('./Restaurant_Inspection_Scores.csv')\n",
    "\n",
    "restaurants['Inspection Date'] = pd.to_datetime(restaurants['Inspection Date'])\n",
    "\n",
    "def to_letter_score(row):\n",
    "    if row['Score'] >= 90:\n",
    "        return 'A'\n",
    "    elif row['Score'] >= 80:\n",
    "        return 'B'\n",
    "    elif row['Score'] >= 70:\n",
    "        return 'C'\n",
    "    elif row['Score'] >= 60:\n",
    "        return 'D'\n",
    "    else:\n",
    "        return 'F'\n",
    "    \n",
    "restaurants['Letter Score'] = restaurants.apply(to_letter_score, axis=1)"
   ]
  },
  {
   "cell_type": "code",
   "execution_count": null,
   "metadata": {
    "collapsed": false,
    "urth": {
     "dashboard": {
      "hidden": true,
      "layout": {}
     }
    }
   },
   "outputs": [],
   "source": [
    "restaurants.head()"
   ]
  },
  {
   "cell_type": "code",
   "execution_count": null,
   "metadata": {
    "collapsed": false,
    "urth": {
     "dashboard": {
      "hidden": true,
      "layout": {}
     }
    }
   },
   "outputs": [],
   "source": [
    "print(\"Total restaurants: {}\".format(restaurants['Restaurant Name'].count()))"
   ]
  },
  {
   "cell_type": "code",
   "execution_count": null,
   "metadata": {
    "collapsed": false,
    "urth": {
     "dashboard": {
      "hidden": true,
      "layout": {}
     }
    }
   },
   "outputs": [],
   "source": [
    "print(\"Minimum score: {}\".format(restaurants['Score'].min()))"
   ]
  },
  {
   "cell_type": "code",
   "execution_count": null,
   "metadata": {
    "collapsed": false,
    "urth": {
     "dashboard": {
      "hidden": true,
      "layout": {}
     }
    }
   },
   "outputs": [],
   "source": [
    "restaurants[restaurants['Score']==36]"
   ]
  },
  {
   "cell_type": "code",
   "execution_count": null,
   "metadata": {
    "collapsed": false,
    "urth": {
     "dashboard": {
      "hidden": true,
      "layout": {}
     }
    }
   },
   "outputs": [],
   "source": [
    "print(\"Averate score: {}\".format(restaurants['Score'].mean()))"
   ]
  },
  {
   "cell_type": "markdown",
   "metadata": {
    "urth": {
     "dashboard": {
      "hidden": true,
      "layout": {}
     }
    }
   },
   "source": [
    "#### Extracting Geo Location\n",
    "The `Address` column contains the `lat`/`long` of the restaurant"
   ]
  },
  {
   "cell_type": "code",
   "execution_count": null,
   "metadata": {
    "collapsed": false,
    "urth": {
     "dashboard": {
      "hidden": true,
      "layout": {}
     }
    }
   },
   "outputs": [],
   "source": [
    "lat_long_pattern = '\\((.*),(.*)\\)'"
   ]
  },
  {
   "cell_type": "code",
   "execution_count": null,
   "metadata": {
    "collapsed": false,
    "urth": {
     "dashboard": {
      "hidden": true,
      "layout": {}
     }
    }
   },
   "outputs": [],
   "source": [
    "restaurants_with_lat_long = restaurants[restaurants['Address'].str.contains(lat_long_pattern)]"
   ]
  },
  {
   "cell_type": "code",
   "execution_count": null,
   "metadata": {
    "collapsed": false,
    "urth": {
     "dashboard": {
      "hidden": true,
      "layout": {}
     }
    }
   },
   "outputs": [],
   "source": [
    "restaurants_with_lat_long.head()"
   ]
  },
  {
   "cell_type": "code",
   "execution_count": null,
   "metadata": {
    "collapsed": false,
    "urth": {
     "dashboard": {
      "hidden": true,
      "layout": {}
     }
    }
   },
   "outputs": [],
   "source": [
    "print(\"Total restaurants with lat/long: {}\".format(restaurants_with_lat_long['Restaurant Name'].count()))"
   ]
  },
  {
   "cell_type": "code",
   "execution_count": null,
   "metadata": {
    "collapsed": false,
    "urth": {
     "dashboard": {
      "hidden": true,
      "layout": {}
     }
    }
   },
   "outputs": [],
   "source": [
    "restaurants_with_lat_long.loc[:, 'Geo Location'] = restaurants_with_lat_long['Address'].str.split('\\n').str[-1]"
   ]
  },
  {
   "cell_type": "code",
   "execution_count": null,
   "metadata": {
    "collapsed": false,
    "urth": {
     "dashboard": {
      "hidden": true,
      "layout": {}
     }
    }
   },
   "outputs": [],
   "source": [
    "lat_long = restaurants_with_lat_long['Geo Location'].str.extract(lat_long_pattern)\n",
    "restaurants_with_lat_long.loc[:, 'Latitude'] = lat_long[0]\n",
    "restaurants_with_lat_long.loc[:, 'Longitude'] = lat_long[1]"
   ]
  },
  {
   "cell_type": "code",
   "execution_count": null,
   "metadata": {
    "collapsed": false,
    "urth": {
     "dashboard": {
      "hidden": true,
      "layout": {}
     }
    }
   },
   "outputs": [],
   "source": [
    "restaurants_with_lat_long.head()"
   ]
  },
  {
   "cell_type": "code",
   "execution_count": null,
   "metadata": {
    "collapsed": false,
    "urth": {
     "dashboard": {
      "hidden": true,
      "layout": {}
     }
    }
   },
   "outputs": [],
   "source": [
    "restaurants_with_lat_long_and_last_score = restaurants_with_lat_long.sort_values(['Inspection Date','Facility ID']).drop_duplicates(subset='Facility ID', keep='last')\n",
    "restaurants_with_lat_long_and_last_score.head()"
   ]
  },
  {
   "cell_type": "markdown",
   "metadata": {
    "urth": {
     "dashboard": {
      "hidden": true,
      "layout": {}
     }
    }
   },
   "source": [
    "#### Find Restaurants close to a location"
   ]
  },
  {
   "cell_type": "code",
   "execution_count": null,
   "metadata": {
    "collapsed": true,
    "urth": {
     "dashboard": {
      "hidden": true,
      "layout": {}
     }
    }
   },
   "outputs": [],
   "source": [
    "target = (30.317743, -97.721324)"
   ]
  },
  {
   "cell_type": "code",
   "execution_count": null,
   "metadata": {
    "collapsed": true,
    "urth": {
     "dashboard": {
      "hidden": true,
      "layout": {}
     }
    }
   },
   "outputs": [],
   "source": [
    "from math import sin, cos, sqrt, atan2, radians"
   ]
  },
  {
   "cell_type": "code",
   "execution_count": null,
   "metadata": {
    "collapsed": true,
    "urth": {
     "dashboard": {
      "hidden": true,
      "layout": {}
     }
    }
   },
   "outputs": [],
   "source": [
    "# approximate radius of earth in km\n",
    "R = 6373.0\n",
    "    \n",
    "# returns the distance between 2 lat/log coordinates. Units based on R\n",
    "def distance( start, end ):\n",
    "    start_rad = tuple(map(radians, start))\n",
    "    end_rad = tuple(map(radians, end))\n",
    "    \n",
    "\n",
    "    dlon = end_rad[1] - start_rad[1]\n",
    "    dlat = end_rad[0] - start_rad[0]\n",
    "\n",
    "    a = sin(dlat / 2)**2 + cos(start_rad[0]) * cos(start_rad[0]) * sin(dlon / 2)**2\n",
    "    c = 2 * atan2(sqrt(a), sqrt(1 - a))\n",
    "\n",
    "    return R * c"
   ]
  },
  {
   "cell_type": "code",
   "execution_count": null,
   "metadata": {
    "collapsed": false,
    "urth": {
     "dashboard": {
      "hidden": true,
      "layout": {}
     }
    }
   },
   "outputs": [],
   "source": [
    "distance(target, (30.432288, -97.675307))"
   ]
  },
  {
   "cell_type": "code",
   "execution_count": null,
   "metadata": {
    "collapsed": true,
    "urth": {
     "dashboard": {
      "hidden": true,
      "layout": {}
     }
    }
   },
   "outputs": [],
   "source": [
    "from functools import partial\n",
    "\n",
    "columns_for_near = ['Facility ID', \n",
    "                    'Restaurant Name', \n",
    "                    'Zip Code', \n",
    "                    'Address', \n",
    "                    'Score', \n",
    "                    'Inspection Date',\n",
    "                    'Latitude', \n",
    "                    'Longitude',\n",
    "                    'Letter Score']\n",
    "\n",
    "def distance_to( restaurant, target):\n",
    "    rest_loc = (float(restaurant['Latitude']), float(restaurant['Longitude']))\n",
    "    return distance(target, rest_loc)\n",
    "\n",
    "def get_near(lat:float, long:float, radius=0.5):\n",
    "    df = restaurants_with_lat_long_and_last_score\n",
    "    distance_to_partial = partial(distance_to, target=(lat,long))\n",
    "    distances = df.apply(distance_to_partial, axis=1)\n",
    "    return df.loc[distances[distances < radius].sort_values().index.values][columns_for_near]"
   ]
  },
  {
   "cell_type": "code",
   "execution_count": null,
   "metadata": {
    "collapsed": false,
    "scrolled": false,
    "urth": {
     "dashboard": {
      "hidden": true,
      "layout": {}
     }
    }
   },
   "outputs": [],
   "source": [
    "get_near(target[0],target[1])"
   ]
  },
  {
   "cell_type": "markdown",
   "metadata": {
    "urth": {
     "dashboard": {
      "hidden": true,
      "layout": {}
     }
    }
   },
   "source": [
    "#### Getting specific Restaurants history of inspection scores"
   ]
  },
  {
   "cell_type": "code",
   "execution_count": null,
   "metadata": {
    "collapsed": true,
    "urth": {
     "dashboard": {
      "hidden": true,
      "layout": {}
     }
    }
   },
   "outputs": [],
   "source": [
    "a_facility_id = 2800676"
   ]
  },
  {
   "cell_type": "code",
   "execution_count": null,
   "metadata": {
    "collapsed": false,
    "urth": {
     "dashboard": {
      "hidden": true,
      "layout": {}
     }
    }
   },
   "outputs": [],
   "source": [
    "a_restaurant = restaurants[restaurants['Facility ID'] == a_facility_id]\n",
    "a_restaurant"
   ]
  },
  {
   "cell_type": "code",
   "execution_count": null,
   "metadata": {
    "collapsed": false,
    "urth": {
     "dashboard": {
      "hidden": true,
      "layout": {}
     }
    }
   },
   "outputs": [],
   "source": [
    "a_score = a_restaurant[[\"Inspection Date\", \"Score\"]]"
   ]
  },
  {
   "cell_type": "code",
   "execution_count": null,
   "metadata": {
    "collapsed": false,
    "urth": {
     "dashboard": {
      "hidden": true,
      "layout": {}
     }
    }
   },
   "outputs": [],
   "source": [
    "a_sorted_score = a_score.sort_values('Inspection Date', inplace=False)\n",
    "a_sorted_score"
   ]
  },
  {
   "cell_type": "code",
   "execution_count": null,
   "metadata": {
    "collapsed": true,
    "urth": {
     "dashboard": {
      "hidden": true,
      "layout": {}
     }
    }
   },
   "outputs": [],
   "source": [
    "def get_scores(id):\n",
    "    a_restaurant = restaurants[restaurants['Facility ID'] == int(id)]\n",
    "    a_score = a_restaurant.sort_values('Inspection Date', inplace=False)\n",
    "    return a_score[[\"Inspection Date\", \"Score\"]]"
   ]
  },
  {
   "cell_type": "code",
   "execution_count": null,
   "metadata": {
    "collapsed": false,
    "urth": {
     "dashboard": {
      "hidden": true,
      "layout": {}
     }
    }
   },
   "outputs": [],
   "source": [
    "get_scores(a_facility_id)"
   ]
  },
  {
   "cell_type": "markdown",
   "metadata": {
    "urth": {
     "dashboard": {
      "hidden": true,
      "layout": {}
     }
    }
   },
   "source": [
    "#### Getting specific Restaurants based on facility id\n",
    "\n",
    "Returning a simple dictionary and fixing column names to avoid spaces"
   ]
  },
  {
   "cell_type": "code",
   "execution_count": null,
   "metadata": {
    "collapsed": false,
    "urth": {
     "dashboard": {
      "hidden": true,
      "layout": {}
     }
    }
   },
   "outputs": [],
   "source": [
    "def rest_from_id(id):\n",
    "    df = restaurants_with_lat_long_and_last_score\n",
    "    dict_recs = df[df['Facility ID'] == int(id)].to_dict(orient='records')\n",
    "    \n",
    "    a_rest = dict_recs[0] if dict_recs else None\n",
    "    the_a_rest = {}\n",
    "    \n",
    "    if a_rest:\n",
    "        for key in a_rest.keys():\n",
    "            the_a_rest[key.replace(' ','_').lower()] = a_rest[key]\n",
    "    \n",
    "    return the_a_rest"
   ]
  },
  {
   "cell_type": "code",
   "execution_count": null,
   "metadata": {
    "collapsed": false,
    "urth": {
     "dashboard": {
      "hidden": true,
      "layout": {}
     }
    }
   },
   "outputs": [],
   "source": [
    "rest_from_id(a_facility_id)"
   ]
  },
  {
   "cell_type": "markdown",
   "metadata": {
    "urth": {
     "dashboard": {
      "hidden": true,
      "layout": {}
     }
    }
   },
   "source": [
    "#### Search for restaurants by name"
   ]
  },
  {
   "cell_type": "code",
   "execution_count": null,
   "metadata": {
    "collapsed": false,
    "urth": {
     "dashboard": {
      "hidden": true,
      "layout": {}
     }
    }
   },
   "outputs": [],
   "source": [
    "restaurants_with_lat_long_and_last_score[restaurants_with_lat_long_and_last_score['Restaurant Name'].str.lower().str.contains(\"vas\")]"
   ]
  },
  {
   "cell_type": "code",
   "execution_count": null,
   "metadata": {
    "collapsed": false,
    "urth": {
     "dashboard": {
      "hidden": true,
      "layout": {}
     }
    }
   },
   "outputs": [],
   "source": [
    "def get_by_name(search: \"\", lat:float, long:float, radius=10):\n",
    "    df = get_near(lat,long, radius)\n",
    "    search_hits_restaurants = df[df['Restaurant Name'].str.lower().str.contains(search.lower())][columns_for_near]\n",
    "    return search_hits_restaurants"
   ]
  },
  {
   "cell_type": "code",
   "execution_count": null,
   "metadata": {
    "collapsed": false,
    "urth": {
     "dashboard": {
      "hidden": true,
      "layout": {}
     }
    }
   },
   "outputs": [],
   "source": [
    "get_by_name(\"Vas\", target[0],target[1], 10.0)"
   ]
  },
  {
   "cell_type": "markdown",
   "metadata": {
    "urth": {
     "dashboard": {
      "hidden": true,
      "layout": {}
     }
    }
   },
   "source": [
    "## Interactive Layer"
   ]
  },
  {
   "cell_type": "markdown",
   "metadata": {
    "urth": {
     "dashboard": {
      "hidden": true,
      "layout": {}
     }
    }
   },
   "source": [
    "#### Dependencies and global setup"
   ]
  },
  {
   "cell_type": "code",
   "execution_count": null,
   "metadata": {
    "collapsed": false
   },
   "outputs": [],
   "source": [
    "from declarativewidgets import init\n",
    "init()"
   ]
  },
  {
   "cell_type": "code",
   "execution_count": null,
   "metadata": {
    "collapsed": false,
    "urth": {
     "dashboard": {
      "hidden": true,
      "layout": {}
     }
    }
   },
   "outputs": [],
   "source": [
    "%%html\n",
    "\n",
    "<link rel=\"import\" href=\"urth_components/google-map-observe/google-map.html\" is='urth-core-import' package='lbustelo/google-map-observe#ObserveNodesMarkers'>\n",
    "<link rel=\"import\" href=\"urth_components/google-map-observe/google-map-marker.html\" is='urth-core-import' package='lbustelo/google-map-observe#ObserveNodesMarkers'>\n",
    "<link rel=\"import\" href=\"urth_components/paper-slider/paper-slider.html\" is='urth-core-import' package='PolymerElements/paper-slider'>\n",
    "<link rel=\"import\" href=\"urth_components/paper-progress/paper-progress.html\" is='urth-core-import' package='PolymerElements/paper-progress'>\n",
    "<link rel=\"import\" href=\"urth_components/paper-item/paper-item.html\" is='urth-core-import' package='PolymerElements/paper-item'>\n",
    "<link rel=\"import\" href=\"urth_components/paper-item/paper-item-body.html\" is='urth-core-import' package='PolymerElements/paper-item-body'>\n",
    "<link rel=\"import\" href=\"urth_components/paper-scroll-header-panel/paper-scroll-header-panel.html\" is='urth-core-import' package='PolymerElements/paper-scroll-header-panel'>\n",
    "<link rel=\"import\" href=\"urth_components/paper-toolbar/paper-toolbar.html\" is='urth-core-import' package='PolymerElements/paper-toolbar'>\n",
    "<link rel=\"import\" href=\"urth_components/paper-icon-button/paper-icon-button.html\" is='urth-core-import' package='PolymerElements/paper-icon-button'>\n",
    "<link rel=\"import\" href=\"urth_components/paper-input/paper-input.html\" is='urth-core-import' package='PolymerElements/paper-input'>\n",
    "<link rel=\"import\" href=\"urth_components/iron-selector/iron-selector.html\" is='urth-core-import' package='PolymerElements/iron-selector'>\n",
    "<link rel=\"import\" href=\"urth_components/iron-icon/iron-icon.html\" is='urth-core-import' package='PolymerElements/iron-icon'>\n",
    "<link rel=\"import\" href=\"urth_components/urth-viz-line/urth-viz-line.html\" is='urth-core-import'>\n",
    "\n",
    "<style is=\"custom-style\">\n",
    "    google-map,\n",
    "    paper-scroll-header-panel {\n",
    "        height: 500px;\n",
    "    }\n",
    "    \n",
    "    paper-progress {\n",
    "        display: inline-block;\n",
    "        width: 85px;\n",
    "        margin-bottom: 3px;\n",
    "    }\n",
    "    \n",
    "    .rest-details paper-progress {\n",
    "        width: 125px;\n",
    "    }\n",
    "    \n",
    "    paper-toolbar paper-input {\n",
    "        --paper-input-container-input-color: white;\n",
    "    }\n",
    "</style>"
   ]
  },
  {
   "cell_type": "markdown",
   "metadata": {},
   "source": [
    "Association of necessary images from bundling\n",
    "```\n",
    "images/*.png\n",
    "```"
   ]
  },
  {
   "cell_type": "code",
   "execution_count": null,
   "metadata": {
    "collapsed": false,
    "urth": {
     "dashboard": {
      "hidden": true,
      "layout": {}
     }
    }
   },
   "outputs": [],
   "source": [
    "from declarativewidgets import channel\n",
    "\n",
    "channel().watch(\"sel_rest_id\", lambda old, new: channel().set(\"sel_rest\", rest_from_id(new)))"
   ]
  },
  {
   "cell_type": "markdown",
   "metadata": {
    "urth": {
     "dashboard": {
      "hidden": true,
      "layout": {}
     }
    }
   },
   "source": [
    "#### Map to find restaurants close by"
   ]
  },
  {
   "cell_type": "code",
   "execution_count": null,
   "metadata": {
    "collapsed": false,
    "scrolled": false,
    "urth": {
     "dashboard": {
      "layout": {
       "col": 3,
       "height": 17,
       "row": 2,
       "width": 9
      }
     }
    }
   },
   "outputs": [],
   "source": [
    "%%html\n",
    "<template id=\"mapTemplate\" is=\"urth-core-bind\">\n",
    "    <urth-core-function\n",
    "        id=\"get_near\"\n",
    "        ref=\"get_near\" \n",
    "        arg-lat=\"[[center_lat]]\" \n",
    "        arg-long=\"[[center_long]]\" \n",
    "        arg-radius=\"1.5\" \n",
    "        result=\"{{near}}\" limit=\"50\" delay=\"2000\"></urth-core-function>\n",
    "    <google-map id=\"theMap\" latitude=\"{{center_lat}}\" longitude=\"{{center_long}}\" \n",
    "        zoom=\"15\" disable-zoom disable-default-ui single-info-window\n",
    "        drag-events on-google-map-dragend=\"handleMapDragged\"\n",
    "        on-google-map-ready=\"handleMapReady\">\n",
    "\n",
    "        <template is=\"dom-repeat\" items=\"[[near.data]]\">\n",
    "            <google-map-marker latitude=\"[[item.6]]\" longitude=\"[[item.7]]\" \n",
    "                title=\"[[item.1]]\" data-restid$=\"[[item.0]]\"\n",
    "                icon=\"images/[[item.8]]_score.png\"\n",
    "                click-events on-google-map-marker-click=\"handleMarkerClick\"></google-map-marker>\n",
    "        </template>\n",
    "\n",
    "        <template is=\"dom-if\" if=\"[[sel_rest]]\">\n",
    "            <google-map-marker id=\"selMarker\" latitude=\"[[sel_rest.latitude]]\" longitude=\"[[sel_rest.longitude]]\" \n",
    "                title=\"[[sel_rest.restaurant_name]]\" data-restid$=\"[[item.facility_id]]\"\n",
    "                on-google-map-marker-open=\"handleMarkerOpen\">\n",
    "                    <div class=\"rest-details\">\n",
    "                        <paper-item data-restid$=\"[[sel_rest.facility_id]]\">\n",
    "                            <paper-item-body three-line>\n",
    "                                <div>[[sel_rest.restaurant_name]]</div>\n",
    "                                <div secondary>Score: [[sel_rest.score]] <paper-progress class=\"blue\" value=\"[[sel_rest.score]]\" style=\"display: inline-block;margin-bottom: 3px;\"></paper-progress></div>\n",
    "                                <div secondary>Last inspection: [[sel_rest.inspection_date]]</div>\n",
    "                                <div secondary>[[sel_rest.address]]</div>\n",
    "                            </paper-item-body>\n",
    "                        </paper-item>\n",
    "                        <urth-viz-line id=\"viz\" width=\"500\" height=\"300\" datarows='{{scores.data}}' columns='{{scores.columns}}' ybounds=\"[60,100]\">\n",
    "                            <urth-viz-col index=\"0\" type=\"date\" format=\"%b %d %Y\"></urth-viz-col>\n",
    "                        </urth-viz-line>\n",
    "                    </div>\n",
    "            </google-map-marker>\n",
    "        </template>\n",
    "    </google-map>\n",
    "    <script>\n",
    "        mapTemplate.handleMarkerClick = function(e){\n",
    "            var clickedMarker = e.target;\n",
    "            this.channelElement.set('sel_rest_id', clickedMarker ? clickedMarker.dataset.restid : undefined);\n",
    "        }\n",
    "        \n",
    "        mapTemplate.handleMapDragged = function(){\n",
    "            if(!this.channelElement.get(\"name_search\")){\n",
    "                get_near.invoke() \n",
    "            }\n",
    "        }\n",
    "\n",
    "        mapTemplate.handleMapReady = function(){\n",
    "            if(!this.channelElement.get(\"name_search\")){\n",
    "                this.async(function(){\n",
    "                    get_near.invoke() \n",
    "                }, 1000) \n",
    "            }\n",
    "        }\n",
    "        \n",
    "        mapTemplate.channelElement.watch(\"scores\", function(){\n",
    "            theMap.$$(\"#viz\").datarows = mapTemplate.scores.data;\n",
    "            if(selMarker.info){\n",
    "                selMarker.info.open(selMarker.map, selMarker.marker);\n",
    "            }\n",
    "        })\n",
    "        \n",
    "        mapTemplate.handleMarkerOpen = function(){\n",
    "           theMap.$$(\"#viz\").datarows = mapTemplate.scores.data;     \n",
    "        }\n",
    "    </script>\n",
    "</template>"
   ]
  },
  {
   "cell_type": "code",
   "execution_count": null,
   "metadata": {
    "collapsed": false,
    "scrolled": false,
    "urth": {
     "dashboard": {
      "layout": {
       "col": 0,
       "height": 17,
       "row": 2,
       "width": 3
      }
     }
    }
   },
   "outputs": [],
   "source": [
    "%%html\n",
    "<template id=\"listTemplate\" is=\"urth-core-bind\">\n",
    "    <urth-core-function\n",
    "        id=\"get_by_name\"\n",
    "        ref=\"get_by_name\" \n",
    "        arg-search=\"[[name_search]]\"\n",
    "        arg-lat=\"[[center_lat]]\" \n",
    "        arg-long=\"[[center_long]]\" \n",
    "        arg-radius=\"10\"\n",
    "        result=\"{{near}}\" limit=\"50\" delay=\"2000\"></urth-core-function>\n",
    "    <paper-scroll-header-panel>\n",
    "        <paper-toolbar class=\"small-tall\">\n",
    "            <paper-input value=\"{{name_search}}\">\n",
    "              <iron-icon icon=\"search\" prefix></iron-icon>\n",
    "              <paper-icon-button suffix on-click=\"handleClearClick\" icon=\"clear\" alt=\"clear\" title=\"clear\"></paper-icon-button>\n",
    "            </paper-input>\n",
    "        </paper-toolbar>\n",
    "        <div class=\"content\" role=\"listbox\">\n",
    "            <iron-selector attr-for-selected=\"data-restid\" selected=\"{{sel_rest_id}}\" on-iron-select=\"handleSelected\">\n",
    "                <template is=\"dom-repeat\" items=\"[[near.data]]\">\n",
    "                    <paper-item data-restid$=\"[[item.0]]\" on-click=\"handleItemClick\">\n",
    "                        <paper-item-body three-line>\n",
    "                            <div>[[item.1]]</div>\n",
    "                            <div secondary>Score: [[item.4]] <paper-progress value=\"[[item.4]]\"></paper-progress></div>\n",
    "                            <div secondary>[[item.3]]</div>\n",
    "                        </paper-item-body>\n",
    "                    </paper-item>\n",
    "                </template>\n",
    "            </iron-selector>\n",
    "        </div>\n",
    "    </paper-scroll-header-panel>\n",
    "    <script>\n",
    "        listTemplate.handleSelected = function(e){\n",
    "            e.detail.item.scrollIntoViewIfNeeded()\n",
    "        }\n",
    "        \n",
    "        listTemplate.handleItemClick = function(e){\n",
    "            if(!selMarker.open){\n",
    "                selMarker.async(function(){\n",
    "                    theMap.map.panTo(selMarker.marker.getPosition());\n",
    "                }, 500);\n",
    "            }\n",
    "        }\n",
    "        \n",
    "        listTemplate.handleClearClick = function(){\n",
    "            this.name_search = \"\";\n",
    "            get_near.invoke();\n",
    "        }\n",
    "        \n",
    "        listTemplate.channelElement.watch(\"name_search\", function(){\n",
    "            if(!!listTemplate.channelElement.get(\"name_search\"))\n",
    "                get_by_name.invoke();\n",
    "        })\n",
    "    </script>\n",
    "</template>"
   ]
  },
  {
   "cell_type": "markdown",
   "metadata": {
    "urth": {
     "dashboard": {
      "hidden": true,
      "layout": {}
     }
    }
   },
   "source": [
    "#### Plot of restaurant scores"
   ]
  },
  {
   "cell_type": "code",
   "execution_count": null,
   "metadata": {
    "collapsed": false,
    "urth": {
     "dashboard": {
      "hidden": true,
      "layout": {}
     }
    }
   },
   "outputs": [],
   "source": [
    "%%html\n",
    "<template id=\"scoreTemplate\" is=\"urth-core-bind\">\n",
    "    <urth-core-function \n",
    "        ref=\"get_scores\" \n",
    "        arg-id=\"[[sel_rest_id]]\" \n",
    "        result=\"{{scores}}\" auto></urth-core-function>\n",
    "    <template is=\"dom-if\" if=\"[[sel_rest]]\">\n",
    "        <div class=\"rest-details\">\n",
    "            <paper-item data-restid$=\"[[sel_rest.facility_id]]\">\n",
    "                <paper-item-body three-line>\n",
    "                    <div>[[sel_rest.restaurant_name]]</div>\n",
    "                    <div secondary>Score: [[sel_rest.score]] <paper-progress value=\"[[sel_rest.score]]\"></paper-progress></div>\n",
    "                    <div secondary>Last inspection: [[sel_rest.inspection_date]]</div>\n",
    "                    <div secondary>[[sel_rest.address]]</div>\n",
    "                </paper-item-body>\n",
    "            </paper-item>\n",
    "            <urth-viz-line width=\"500\" height=\"300\" datarows='{{scores.data}}' columns='{{scores.columns}}' ybounds=\"[60,100]\">\n",
    "                <urth-viz-col index=\"0\" type=\"date\" format=\"%b %d %Y\"></urth-viz-col>\n",
    "            </urth-viz-line>\n",
    "        </div>\n",
    "    </template>\n",
    "</template>"
   ]
  },
  {
   "cell_type": "markdown",
   "metadata": {
    "urth": {
     "dashboard": {
      "hidden": true,
      "layout": {}
     }
    }
   },
   "source": [
    "#### Toolbar and Title area"
   ]
  },
  {
   "cell_type": "code",
   "execution_count": null,
   "metadata": {
    "collapsed": false,
    "urth": {
     "dashboard": {
      "layout": {
       "col": 0,
       "height": 2,
       "row": 0,
       "width": 12
      }
     }
    }
   },
   "outputs": [],
   "source": [
    "%%html\n",
    "<paper-toolbar>\n",
    "    <div class=\"title\">Where should I eat?</div>\n",
    "    <paper-icon-button icon=\"menu\"></paper-icon-button>\n",
    "</paper-toolbar>"
   ]
  },
  {
   "cell_type": "markdown",
   "metadata": {
    "urth": {
     "dashboard": {
      "hidden": true,
      "layout": {}
     }
    }
   },
   "source": [
    "#### Default values and debug"
   ]
  },
  {
   "cell_type": "code",
   "execution_count": null,
   "metadata": {
    "collapsed": false,
    "urth": {
     "dashboard": {
      "hidden": true,
      "layout": {}
     }
    }
   },
   "outputs": [],
   "source": [
    "%%html\n",
    "<urth-core-channel debug>\n",
    "    <urth-core-channel-item key=\"center_lat\" value=\"30.4016717\"></urth-core-channel-item>\n",
    "    <urth-core-channel-item key=\"center_long\" value=\"-97.7166573\"></urth-core-channel-item>\n",
    "</urth-core-channel>"
   ]
  },
  {
   "cell_type": "markdown",
   "metadata": {
    "urth": {
     "dashboard": {
      "hidden": true,
      "layout": {}
     }
    }
   },
   "source": [
    "## Layout Layer"
   ]
  },
  {
   "cell_type": "markdown",
   "metadata": {
    "urth": {
     "dashboard": {
      "hidden": true,
      "layout": {}
     }
    }
   },
   "source": [
    "Using `jupyter-dashboard` extension, layout the interactive cells into the following mockup.\n",
    "\n",
    "![mockup](images/mockup.png)"
   ]
  }
 ],
 "metadata": {
  "kernelspec": {
   "display_name": "Python 3",
   "language": "python",
   "name": "python3"
  },
  "language_info": {
   "codemirror_mode": {
    "name": "ipython",
    "version": 3
   },
   "file_extension": ".py",
   "mimetype": "text/x-python",
   "name": "python",
   "nbconvert_exporter": "python",
   "pygments_lexer": "ipython3",
   "version": "3.5.1"
  },
  "urth": {
   "dashboard": {
    "cellMargin": 10,
    "defaultCellHeight": 20,
    "layout": "grid",
    "maxColumns": 12
   }
  }
 },
 "nbformat": 4,
 "nbformat_minor": 0
}
